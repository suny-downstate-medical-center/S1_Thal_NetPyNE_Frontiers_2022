{
 "cells": [
  {
   "cell_type": "code",
   "execution_count": 2,
   "metadata": {},
   "outputs": [
    {
     "data": {
      "text/html": [
       "<style>.container { width:100% !important; }</style>"
      ],
      "text/plain": [
       "<IPython.core.display.HTML object>"
      ]
     },
     "metadata": {},
     "output_type": "display_data"
    }
   ],
   "source": [
    "from IPython.display import display, HTML\n",
    "display(HTML(\"<style>.container { width:100% !important; }</style>\"))"
   ]
  },
  {
   "cell_type": "markdown",
   "metadata": {
    "id": "iUZ8I_prpaP2"
   },
   "source": [
    "# Input-output properties cells"
   ]
  },
  {
   "cell_type": "code",
   "execution_count": 21,
   "metadata": {
    "id": "4CIZw31ZpaP7"
   },
   "outputs": [],
   "source": [
    "import numpy as np\n",
    "import os\n",
    "import pandas as pd\n",
    "import matplotlib.pyplot as plt\n",
    "import pickle, json"
   ]
  },
  {
   "cell_type": "code",
   "execution_count": 4,
   "metadata": {},
   "outputs": [],
   "source": [
    "rootFolder = '/home/fernando/S1_Thal_NetPyNE_Frontiers_2022/sim/'\n",
    "os.chdir(rootFolder)"
   ]
  },
  {
   "cell_type": "code",
   "execution_count": 5,
   "metadata": {},
   "outputs": [],
   "source": [
    "# !nrnivmodl mod"
   ]
  },
  {
   "cell_type": "markdown",
   "metadata": {
    "id": "Y2j5wftWpaQN"
   },
   "source": [
    "## Netpyne"
   ]
  },
  {
   "cell_type": "code",
   "execution_count": 6,
   "metadata": {
    "id": "3__pCUSRpaQN"
   },
   "outputs": [],
   "source": [
    "from netpyne import specs, sim   \n",
    "\n",
    "## cfg  \n",
    "cfg = specs.SimConfig()\t\t\t\t\t            # object of class SimConfig to store simulation configuration"
   ]
  },
  {
   "cell_type": "code",
   "execution_count": 7,
   "metadata": {
    "id": "G0LEiiRR9hAq"
   },
   "outputs": [],
   "source": [
    "# %matplotlib inline"
   ]
  },
  {
   "cell_type": "code",
   "execution_count": 8,
   "metadata": {
    "id": "uE10zG1JpaQP"
   },
   "outputs": [],
   "source": [
    "cfg.duration = 4000.0 \t\t\t\t\t\t            # Duration of the simulation, in ms\n",
    "cfg.dt = 0.05\t\t\t\t\t\t\t\t                # Internal integration timestep to use\n",
    "cfg.verbose = False\t\t\t\t\t\t\t                # Show detailed messages \n",
    "cfg.recordTraces = {'V_soma':{'sec':'soma','loc':0.5,'var':'v'}}  # Dict with traces to record\n",
    "cfg.recordStep = 0.1 \t\t\t\n",
    "cfg.printRunTime = 0.1 # in sec\t\t\t\n",
    "\n",
    "cfg.seeds = {'conn': 1234, 'stim': 1234, 'loc': 1234} \n",
    "cfg.hParams = {'celsius': 34, 'v_init': -65.0}  \n",
    "cfg.verbose = False\n",
    "cfg.createNEURONObj = True\n",
    "cfg.createPyStruct = True  \n",
    "#------------------------------------------------------------------------------\n",
    "# Saving\n",
    "#------------------------------------------------------------------------------\n",
    "cfg.filename = 'model_output'  \t\t\t# Set file output name\n",
    "cfg.savePickle = False         \t## Save pkl file\n",
    "cfg.saveJson = False\t           \t## Save json file\n",
    "cfg.saveDataInclude = ['simData', 'simConfig', 'netParams', 'net']\n",
    "cfg.backupCfgFile = None \t\t##  \n",
    "cfg.gatherOnlySimData = False\t##  \n",
    "cfg.saveCellSecs = True\t\t\t\n",
    "cfg.saveCellConns = True\t\n",
    "\n",
    "cfg.analysis['plotTraces'] = {'include': [i for i in range(25)], 'oneFigPer': 'trace', 'overlay': True, 'timeRange': [2300,3600], 'saveFig': True, 'showFig': True, 'figSize':(12,4)} # Plot recorded traces for this list of cells\n",
    "# cfg.analysis['plotShape'] = {'includePre': [0],'includePre': [0], 'saveFig': True, 'showFig': True, 'figSize':(12,12)}\n"
   ]
  },
  {
   "cell_type": "code",
   "execution_count": 9,
   "metadata": {
    "scrolled": true
   },
   "outputs": [],
   "source": [
    "#------------------------------------------------------------------------------\n",
    "# Cells\n",
    "#------------------------------------------------------------------------------\n",
    "cfg.cao_secs = 1.2\n",
    "\n",
    "cfg.use_frac = {} # use[invivo] = cfg.use_frac * use[invitro]\n",
    "\n",
    "cfg.use_frac['EIproximal'] = 0.75 # shallow dependence between PC-proximal targeting cell types (LBCs, NBCs, SBCs, ChC)\n",
    "cfg.use_frac['Inh'] = 0.50 # Pathways that had not been studied experimentally were assumed to have an intermediate level of dependence\n",
    "cfg.use_frac['EE'] = 0.25 # steep Ca2+ dependence for connections between PC-PC and PC-distal targeting cell types (DBC, BTC, MC, BP)\n",
    "cfg.use_frac['EIdistal'] = 0.25 \n",
    "\n",
    "#------------------------------------------------------------------------------  \n",
    "# S1 Cells\n",
    "# Load 55 Morphological Names and Cell pop numbers -> L1:6 L23:10 L4:12 L5:13 L6:14\n",
    "# Load 207 Morpho-electrical Names used to import the cells from 'cell_data/' -> L1:14 L23:43 L4:46 L5:52 L6:52\n",
    "# Create [Morphological,Electrical] = number of cell metype in the sub-pop\n",
    "\n",
    "with open('cells/S1-cells-distributions-Rat.txt') as mtype_file:\n",
    "    mtype_content = mtype_file.read()       \n",
    "\n",
    "cfg.popNumber = {}\n",
    "cfg.cellNumber = {} \n",
    "cfg.popLabel = {} \n",
    "cfg.cellLabel = {}\n",
    "\n",
    "for line in mtype_content.split('\\n')[:-1]:\n",
    "    cellname, mtype, etype, n, m = line.split()\n",
    "    metype = mtype + '_' + etype[0:3]\n",
    "    cfg.cellNumber[metype] = int(n)\n",
    "    cfg.popLabel[metype] = mtype\n",
    "    cfg.popNumber[mtype] = int(m)\n",
    "    cfg.cellLabel[metype] = cellname\n",
    "\n",
    "#------------------------------------------------------------------------------\n",
    "cfg.Epopsall = ['L23_PC', 'L4_PC', 'L4_SS', 'L4_SP', \n",
    "             'L5_TTPC1', 'L5_TTPC2', 'L5_STPC', 'L5_UTPC',\n",
    "             'L6_TPC_L1', 'L6_TPC_L4', 'L6_BPC', 'L6_IPC', 'L6_UTPC']\n",
    "cfg.Ipops = []\n",
    "cfg.Epops = [] \n",
    "cfg.S1pops = []\n",
    "cfg.S1cells = []\n",
    "cfg.popLabelEl = {}\n",
    "\n",
    "for metype in  cfg.popLabel.keys(): # metype      \n",
    "    cfg.S1cells.append(metype)\n",
    "    mtype = cfg.popLabel[metype]            \n",
    "    if mtype in cfg.Epopsall:            \n",
    "        if mtype not in cfg.Epops:\n",
    "            cfg.Epops.append(mtype)\n",
    "            cfg.S1pops.append(mtype)\n",
    "            cfg.popLabelEl[mtype] = [] \n",
    "        cfg.popLabelEl[mtype].append(metype)            \n",
    "    else:            \n",
    "        if mtype not in cfg.Ipops:                \n",
    "            cfg.Ipops.append(mtype)  \n",
    "            cfg.S1pops.append(mtype)  \n",
    "            cfg.popLabelEl[mtype] = [] \n",
    "        cfg.popLabelEl[mtype].append(metype)      \n",
    "#------------------------------------------------------------------------------  \n",
    "#\n",
    "#------------------------------------------------------------------------------  \n",
    "cfg.popParamLabels = cfg.S1pops\n",
    "cfg.cellParamLabels = cfg.S1cells\n"
   ]
  },
  {
   "cell_type": "code",
   "execution_count": 10,
   "metadata": {},
   "outputs": [
    {
     "name": "stdout",
     "output_type": "stream",
     "text": [
      "batch.py  bnoq.sh  cfg.py  fat.sh   load_plot.py  netParams.py  \u001b[0m\u001b[01;34mx86_64\u001b[0m/\r\n",
      "\u001b[01;34mbkp\u001b[0m/      \u001b[01;34mcells\u001b[0m/   \u001b[01;34mconn\u001b[0m/   init.py  \u001b[01;34mmod\u001b[0m/          noq.sh\r\n"
     ]
    }
   ],
   "source": [
    "ls"
   ]
  },
  {
   "cell_type": "code",
   "execution_count": 11,
   "metadata": {},
   "outputs": [],
   "source": [
    "#--------------------------------------------------------------------------\n",
    "# Recording \n",
    "#--------------------------------------------------------------------------\n",
    "cfg.allpops = cfg.cellParamLabels\n",
    "cfg.recordCells = cfg.allpops # record all cells\n",
    "cfg.recordTraces = {'V_soma': {'sec':'soma', 'loc':0.5, 'var':'v'}}  ## Dict with traces to record\n",
    "cfg.recordStim = False\t\t\t\n",
    "cfg.recordTime = False  \t\t\n",
    "cfg.recordStep = 0.5       \n",
    "\n",
    "#------------------------------------------------------------------------------\n",
    "# Saving\n",
    "#------------------------------------------------------------------------------\n",
    "cfg.simLabel = 'v0_batch0'       #   + str(cfg.cynradNumber)\n",
    "cfg.saveFolder = '../data/'+cfg.simLabel\n",
    "# cfg.filename =                \t## Set file output name\n",
    "cfg.savePickle = True\t        \t## Save pkl file\n",
    "cfg.saveJson = False           \t## Save json file\n",
    "cfg.saveDataInclude = ['simData'] ## ['simData'] ##  ['simData'] ##, , 'simConfig', 'netParams'\n",
    "cfg.backupCfgFile = None \t\t##  \n",
    "cfg.gatherOnlySimData = False\t##  \n",
    "cfg.saveCellSecs = False\t\t\t\n",
    "cfg.saveCellConns = False\t"
   ]
  },
  {
   "cell_type": "code",
   "execution_count": 12,
   "metadata": {
    "scrolled": true
   },
   "outputs": [],
   "source": [
    "#------------------------------------------------------------------------------\n",
    "# Network \n",
    "#------------------------------------------------------------------------------\n",
    "cfg.scale = 1.0 # reduce size\n",
    "cfg.sizeY = 2082.0\n",
    "cfg.sizeX = 420.0 # r = 210 um and hexagonal side length = 230.9 um\n",
    "cfg.sizeZ = 420.0"
   ]
  },
  {
   "cell_type": "code",
   "execution_count": 13,
   "metadata": {},
   "outputs": [],
   "source": [
    "# Network parameters\n",
    "netParams = specs.NetParams()  # object of class NetParams to store the network parameters"
   ]
  },
  {
   "cell_type": "code",
   "execution_count": 14,
   "metadata": {},
   "outputs": [],
   "source": [
    "#------------------------------------------------------------------------------\n",
    "# General network parameters\n",
    "#------------------------------------------------------------------------------\n",
    "netParams.scale = cfg.scale # Scale factor for number of cells\n",
    "netParams.sizeX = cfg.sizeX # x-dimension (horizontal length) size in um\n",
    "netParams.sizeY = cfg.sizeY # y-dimension (vertical height or cortical depth) size in um\n",
    "netParams.sizeZ = cfg.sizeZ # z-dimension (horizontal depth) size in um\n",
    "netParams.shape = 'cylinder' # cylindrical (column-like) volume\n",
    "   \n",
    "# Layer\theight (um)\theight (norma)\tfrom\tto\n",
    "# L1\t165\t\t    0.079\t\t    0.000\t0.079\n",
    "# L2\t149\t\t    0.072\t\t    0.079\t0.151\n",
    "# L3\t353\t\t    0.170\t\t    0.151\t0.320\n",
    "# L4\t190\t\t    0.091\t\t    0.320\t0.412\n",
    "# L5\t525\t\t    0.252\t\t    0.412\t0.664\n",
    "# L6\t700\t\t    0.336\t\t    0.664\t1.000\n",
    "# L23\t502\t\t    0.241\t\t    0.079\t0.320\n",
    "# All\t2082\t    1.000\t\n",
    "\n",
    "\n",
    "cellModels = ['HH_full']\n",
    "\n",
    "layer = {'1':[0.0, 0.079], '2': [0.079,0.151], '3': [0.151,0.320], '23': [0.079,0.320], '4':[0.320,0.412], '5': [0.412,0.664], '6': [0.664,1.0], \n",
    "'longS1': [2.2,2.3], 'longS2': [2.3,2.4]}  # normalized layer boundaries\n",
    "\n",
    "#------------------------------------------------------------------------------\n",
    "# General connectivity parameters\n",
    "#------------------------------------------------------------------------------\n",
    "netParams.defaultThreshold = -10.0 # spike threshold, 10 mV is NetCon default, lower it for all cells\n",
    "netParams.defaultDelay = 0.1 # default conn delay (ms)\n",
    "netParams.propVelocity = 300.0 #  300 μm/ms (Stuart et al., 1997)\n",
    "netParams.scaleConnWeightNetStims = 0.001  # weight conversion factor (from nS to uS)\n"
   ]
  },
  {
   "cell_type": "code",
   "execution_count": 15,
   "metadata": {},
   "outputs": [],
   "source": [
    "# Population parameters      \n",
    "for metype in cfg.cellParamLabels:\n",
    "    \n",
    "    if cfg.cellNumber[metype] < 5:\n",
    "        morphoNumbers = cfg.cellNumber[metype]\n",
    "    else:\n",
    "        morphoNumbers = 5    \n",
    "        \n",
    "    layernumber = metype[1:2]\n",
    "    if layernumber == '2':\n",
    "        netParams.popParams[metype] = {'cellType': metype, 'cellModel': 'HH_full', 'ynormRange': layer['23'], \n",
    "                                            'numCells': int(morphoNumbers), 'diversity': True}\n",
    "    else:\n",
    "        netParams.popParams[metype] = {'cellType': metype, 'cellModel': 'HH_full', 'ynormRange': layer[layernumber], \n",
    "                                            'numCells': int(morphoNumbers), 'diversity': True}"
   ]
  },
  {
   "cell_type": "code",
   "execution_count": 16,
   "metadata": {},
   "outputs": [],
   "source": [
    "#------------------------------------------------------------------------------\n",
    "# Cell parameters  # L1 70  L23 215  L4 230 L5 260  L6 260  = 1035\n",
    "#------------------------------------------------------------------------------\n",
    "## S1 cell property rules\n",
    "for cellName in cfg.S1cells:\n",
    "    \n",
    "    if cfg.cellNumber[cellName] < 5:\n",
    "        morphoNumbers = cfg.cellNumber[cellName]\n",
    "    else:\n",
    "        morphoNumbers = 5    \n",
    "    \n",
    "    for morphoNumber in range(morphoNumbers):\n",
    "\n",
    "        cellFraction = 1.0/morphoNumbers\n",
    "\n",
    "        cellMe = cfg.cellLabel[cellName] + '_' + str(morphoNumber+1)\n",
    "        \n",
    "        # Load cell rules previously saved using netpyne format  \n",
    "        netParams.loadCellParamsRule(label = cellMe, fileName = 'cells/' + cellMe + '_cellParams.json')   \n",
    " \n",
    "        netParams.cellParams[cellMe]['diversityFraction'] = cellFraction   \n",
    "\n",
    "        #-----------------------------------------------------------------------------------#\n",
    "        axon_pt3d_x, axon_pt3d_y, axon_pt3d_z, soma_pt3d_diam =  netParams.cellParams[cellMe]['secs']['soma']['geom']['pt3d'][-1]\n",
    "        axon_pt3d_diam =  netParams.cellParams[cellMe]['secs']['axon_0']['geom']['diam']\n",
    "        axon_pt3d_L =  netParams.cellParams[cellMe]['secs']['axon_0']['geom']['L']\n",
    "\n",
    "        netParams.cellParams[cellMe]['secs']['axon_0']['geom']['pt3d'] = [(axon_pt3d_x, axon_pt3d_y, axon_pt3d_z, axon_pt3d_diam),\n",
    "                                                                          (axon_pt3d_x, axon_pt3d_y+axon_pt3d_L/2.0, axon_pt3d_z, axon_pt3d_diam),\n",
    "                                                                          (axon_pt3d_x, axon_pt3d_y+axon_pt3d_L, axon_pt3d_z, axon_pt3d_diam)]\n",
    "\n",
    "        axon1_pt3d_x, axon1_pt3d_y, axon1_pt3d_z, soma_pt3d_diam =  netParams.cellParams[cellMe]['secs']['axon_0']['geom']['pt3d'][-1]\n",
    "        axon1_pt3d_diam =  netParams.cellParams[cellMe]['secs']['axon_1']['geom']['diam']\n",
    "        axon1_pt3d_L =  netParams.cellParams[cellMe]['secs']['axon_1']['geom']['L']\n",
    "\n",
    "        netParams.cellParams[cellMe]['secs']['axon_1']['geom']['pt3d'] = [(axon1_pt3d_x, axon1_pt3d_y, axon1_pt3d_z, axon1_pt3d_diam),\n",
    "                                                                          (axon1_pt3d_x, axon1_pt3d_y+axon1_pt3d_L/2.0, axon1_pt3d_z, axon1_pt3d_diam),\n",
    "                                                                          (axon1_pt3d_x, axon1_pt3d_y+axon1_pt3d_L, axon1_pt3d_z, axon1_pt3d_diam)] \n",
    "        \n",
    "        #-----------------------------------------------------------------------------------#        \n",
    "        for section in netParams.cellParams[cellMe]['secLists']['all']:\n",
    "            if 'ions' in netParams.cellParams[cellMe]['secs'][section].keys():\n",
    "                if 'ca' in netParams.cellParams[cellMe]['secs'][section]['ions'].keys():\n",
    "                    netParams.cellParams[cellMe]['secs'][section]['ions']['ca']['o'] = cfg.cao_secs      \n",
    "                    \n",
    "            randRotationAngle = 2.0*np.pi*np.random.rand() # np.pi/2.0  # rand.uniform(0, 6.2832)  #    \n",
    "        \n",
    "            #  Rotate the cell about the Z axis\n",
    "            for ipt, pt3d in enumerate(netParams.cellParams[cellMe]['secs'][section]['geom']['pt3d']):                \n",
    "                x = pt3d[0]             \n",
    "                y = pt3d[1]\n",
    "                z = pt3d[2]\n",
    "                d = pt3d[3]\n",
    "                c = np.cos(randRotationAngle)\n",
    "                s = np.sin(randRotationAngle)        \n",
    "\n",
    "                netParams.cellParams[cellMe]['secs'][section]['geom']['pt3d'][ipt] = (x * c - z * s, y, x * s + z * c, d)\n"
   ]
  },
  {
   "cell_type": "code",
   "execution_count": 17,
   "metadata": {},
   "outputs": [],
   "source": [
    "# create custom list of spike times\n",
    "spkTimes = [500,2500,2550,2600,2650,2700,2750,2800,2850,2900,3400]\n",
    "\n",
    "netParams.popParams['presyn'] = {'cellModel': 'VecStim', 'numCells': 1, 'spkTimes': spkTimes}  # VecStim with spike times"
   ]
  },
  {
   "cell_type": "code",
   "execution_count": 18,
   "metadata": {
    "colab": {
     "base_uri": "https://localhost:8080/"
    },
    "id": "hEVEsuIXpaQP",
    "outputId": "b07bb237-d0a8-44f4-a7f9-5f5cf698508a"
   },
   "outputs": [
    {
     "data": {
      "text/plain": [
       "['L1_DAC_bNAC219_1',\n",
       " 'L1_DAC_bNAC219_2',\n",
       " 'L1_DAC_bNAC219_3',\n",
       " 'L1_DAC_bNAC219_4',\n",
       " 'L1_DAC_bNAC219_5',\n",
       " 'L1_DAC_cNAC187_1',\n",
       " 'L1_DAC_cNAC187_2',\n",
       " 'L1_DAC_cNAC187_3',\n",
       " 'L1_DAC_cNAC187_4',\n",
       " 'L1_DAC_cNAC187_5']"
      ]
     },
     "execution_count": 18,
     "metadata": {},
     "output_type": "execute_result"
    }
   ],
   "source": [
    "list(netParams.cellParams.keys())[0:10]"
   ]
  },
  {
   "cell_type": "code",
   "execution_count": 19,
   "metadata": {},
   "outputs": [
    {
     "data": {
      "text/plain": [
       "['L1_DAC_bNA',\n",
       " 'L1_DAC_cNA',\n",
       " 'L1_DLAC_cNA',\n",
       " 'L1_HAC_bNA',\n",
       " 'L1_HAC_cIR',\n",
       " 'L1_HAC_cNA',\n",
       " 'L1_NGC-DA_bNA',\n",
       " 'L1_NGC-DA_cAC',\n",
       " 'L1_NGC-DA_cNA',\n",
       " 'L1_NGC-DA_cST']"
      ]
     },
     "execution_count": 19,
     "metadata": {},
     "output_type": "execute_result"
    }
   ],
   "source": [
    "list(netParams.popParams.keys())[0:10]"
   ]
  },
  {
   "cell_type": "code",
   "execution_count": 23,
   "metadata": {},
   "outputs": [],
   "source": [
    "#------------------------------------------------------------------------------\n",
    "# load data from S1 conn pre-processing file \n",
    "#------------------------------------------------------------------------------\n",
    "import pandas as pd\n",
    "\n",
    "with open('conn/conn.pkl', 'rb') as fileObj: connData = pickle.load(fileObj)\n",
    "\n",
    "lmat = connData['lmat']\n",
    "a0mat = connData['a0mat']\n",
    "d0 = connData['d0']\n",
    "\n",
    "a0e = connData['a0mat_exp']\n",
    "l0e = connData['lmat_exp']\n",
    "d0e = connData['d0_exp']\n",
    "\n",
    "a0g = connData['a0mat_gauss']\n",
    "x0g = connData['x0_gauss']\n",
    "l0g = connData['lmat_gauss']\n",
    "d0g = connData['d0_gauss']\n",
    "\n",
    "dfinal = connData['dfinal']\n",
    "pmat = {}\n",
    "pmat[12.5] = connData['pmat12um']\n",
    "pmat[25] = connData['pmat25um']\n",
    "pmat[50] = connData['pmat50um']\n",
    "pmat[75] = connData['pmat75um']\n",
    "pmat[100] = connData['pmat100um']\n",
    "pmat[125] = connData['pmat125um']\n",
    "pmat[150] = connData['pmat150um']\n",
    "pmat[175] = connData['pmat175um']\n",
    "pmat[200] = connData['pmat200um'] #max value for d0=200\n",
    "\n",
    "synperconnNumber = connData['synperconnNumber']\n",
    "connNumber = connData['connNumber']\n",
    "decay = connData['decay']\n",
    "gsyn = connData['gsyn']\n",
    "use = connData['use']\n",
    "\n",
    "ConnTypesNumber = connData['ConnTypesNumber'] \n",
    "ConnTypes = connData['ConnTypes']   \n",
    "\n",
    "connIEtype = connData['connIEtype']  \n",
    "connEItype = connData['connEItype']\n",
    "parameters_syn = connData['parameters_syn']\n",
    "\n",
    "physColumnNames = []\n",
    "syntypes = []\n",
    "for name,syntype in parameters_syn:    \n",
    "    if name not in physColumnNames:\n",
    "        physColumnNames.append(name) \n",
    "    if syntype not in syntypes:\n",
    "        syntypes.append(syntype)\n",
    "        \n",
    "dfS6 = pd.DataFrame(index=syntypes, columns=physColumnNames)\n",
    "for syntype in syntypes:\n",
    "    for name in physColumnNames:    \n",
    "        dfS6.loc[syntype][name] = parameters_syn[name,syntype]\n",
    "\n",
    "#------------------------------------------------------------------------------\n",
    "# Synaptic mechanism parameters\n",
    "#------------------------------------------------------------------------------\n",
    "#  mods from S1 BBP - deterministic version\n",
    "for syntype in syntypes:\n",
    "    if syntype > 50:  # Exc\n",
    "        \n",
    "        netParams.synMechParams['S1_EE_STP_Det_' + str(syntype)] = {'mod': 'DetAMPANMDA',\n",
    "                                         'Use': dfS6['use'][syntype], # ± dfS6['useStd'][syntype]\n",
    "                                         'Dep': dfS6['dep'][syntype], # ± dfS6['depStd'][syntype] \n",
    "                                         'Fac': dfS6['fac'][syntype], # ± dfS6['facStd'][syntype]\n",
    "                                         'tau_d_AMPA': 1.74, # ± 0.18 ms\n",
    "                                         'tau_r_AMPA': 0.2, \n",
    "                                         'tau_r_NMDA': 0.29,\n",
    "                                         'tau_d_NMDA': 43,   \n",
    "                                         'NMDA_ratio': 0.8, # ± 0.1 for EE -- experimentally measured for some path?\n",
    "                                         'mg':1.0, #    0.5mM where exceptionally specified?                                                                \n",
    "                                            }\n",
    "        netParams.synMechParams['S1_EI_STP_Det_' + str(syntype)] = {'mod': 'DetAMPANMDA',\n",
    "                                         'Use': dfS6['use'][syntype], # ± dfS6['useStd'][syntype]\n",
    "                                         'Dep': dfS6['dep'][syntype], # ± dfS6['depStd'][syntype] \n",
    "                                         'Fac': dfS6['fac'][syntype], # ± dfS6['facStd'][syntype]\n",
    "                                         'tau_d_AMPA': 1.74, # ± 0.18 ms\n",
    "                                         'tau_r_AMPA': 0.2,\n",
    "                                         'tau_r_NMDA': 0.29,\n",
    "                                         'tau_d_NMDA': 43,   \n",
    "                                         'NMDA_ratio': 0.4, # ± 0.1  for EI -- experimentally measured for some path?\n",
    "                                         'mg':1.0, #    0.5mM where exceptionally specified?                                                                \n",
    "                                            }\n",
    "    else: # Inh\n",
    "        \n",
    "        netParams.synMechParams['S1_II_STP_Det_' + str(syntype)] = {'mod': 'DetGABAAB',\n",
    "                                         'Use': dfS6['use'][syntype], # ± dfS6['useStd'][syntype]\n",
    "                                         'Dep': dfS6['dep'][syntype], # ± dfS6['depStd'][syntype]  \n",
    "                                         'Fac': dfS6['fac'][syntype], # ± dfS6['facStd'][syntype]\n",
    "                                         'tau_d_GABAA': dfS6['decay'][syntype], # ± dfS6['decayStd'][syntype]\n",
    "                                         'tau_r_GABAA': 0.2,   #rng.lognormal(0.2, 0.1) in synapses.hoc  \n",
    "                                         'tau_d_GABAB': 260.9,\n",
    "                                         'tau_r_GABAB': 3.5,\n",
    "                                         'e_GABAA': -80.0, #= -80   (mV) : GABAA reversal potential\n",
    "#                                          'GABAB_ratio': 1.0,  #=0(1):The ratio of GABAB to GABAA  ?          \n",
    "                                            }\n",
    "        \n",
    "        netParams.synMechParams['S1_IE_STP_Det_' + str(syntype)] = {'mod': 'DetGABAAB',\n",
    "                                         'Use': dfS6['use'][syntype], # ± dfS6['useStd'][syntype]\n",
    "                                         'Dep': dfS6['dep'][syntype], # ± dfS6['depStd'][syntype]  \n",
    "                                         'Fac': dfS6['fac'][syntype], # ± dfS6['facStd'][syntype]\n",
    "                                         'tau_d_GABAA': dfS6['decay'][syntype], # ± dfS6['decayStd'][syntype]\n",
    "                                         'tau_r_GABAA': 0.2,   #rng.lognormal(0.2, 0.1) in synapses.hoc  \n",
    "                                         'tau_d_GABAB': 260.9,\n",
    "                                         'tau_r_GABAB': 3.5,\n",
    "                                         'e_GABAA': -80.0, #= -80   (mV) : GABAA reversal potential\n",
    "#                                          'GABAB_ratio': 1.0,  #=0(1):The ratio of GABAB to GABAA   ?       \n",
    "                                            }\n",
    "        \n",
    "        netParams.synMechParams['S1_IEL5_STP_Det_' + str(syntype)] = {'mod': 'DetGABAAB',\n",
    "                                         'Use': dfS6['use'][syntype], # ± dfS6['useStd'][syntype]\n",
    "                                         'Dep': dfS6['dep'][syntype], # ± dfS6['depStd'][syntype]  \n",
    "                                         'Fac': dfS6['fac'][syntype], # ± dfS6['facStd'][syntype]\n",
    "                                         'tau_d_GABAA': dfS6['decay'][syntype], # ± dfS6['decayStd'][syntype]\n",
    "                                         'tau_r_GABAA': 0.2,   #rng.lognormal(0.2, 0.1) in synapses.hoc  \n",
    "                                         'tau_d_GABAB': 260.9,\n",
    "                                         'tau_r_GABAB': 3.5,\n",
    "                                         'e_GABAA': -80.0, #= -80   (mV) : GABAA reversal potential\n",
    "#                                          'GABAB_ratio': 1.0,  #=0(1):The ratio of GABAB to GABAA   ?       \n",
    "                                            }\n",
    "\n",
    "# Th NEW\n",
    "#E2 -> syn 134\n",
    "netParams.synMechParams['TC:S1'] = {'mod': 'DetAMPANMDA',\n",
    "                                          'Dep': 227.0,\n",
    "                                          'Fac': 13.0,\n",
    "                                          'Use': 0.72,\n",
    "                                          'tau_r_AMPA': 0.2,\n",
    "                                          'tau_d_AMPA': 1.74,\n",
    "                                          'NMDA_ratio': 0.4,\n",
    "                                          'tau_r_NMDA': 0.29,\n",
    "                                          'tau_d_NMDA': 43.0}\n",
    "\n",
    "\n",
    "# Spont and BG\n",
    "netParams.synMechParams['AMPA'] = {'mod':'MyExp2SynBB', 'tau1': 0.2, 'tau2': 1.74, 'e': 0}\n",
    "netParams.synMechParams['NMDA'] = {'mod': 'MyExp2SynNMDABB', 'tau1NMDA': 0.29, 'tau2NMDA': 43, 'e': 0}\n",
    "netParams.synMechParams['GABAA'] = {'mod':'MyExp2SynBB', 'tau1': 0.2, 'tau2': 8.3, 'e': -80}\n",
    "netParams.synMechParams['GABAB'] = {'mod':'MyExp2SynBB', 'tau1': 3.5, 'tau2': 260.9, 'e': -93} \n",
    "ESynMech = ['AMPA', 'NMDA']\n",
    "ISynMech = ['GABAA', 'GABAB']\n",
    "\n",
    "# Th\n",
    "netParams.synMechParams['NMDA_Th']             = {'mod': 'MyExp2SynNMDABB',    'tau1NMDA': 15, 'tau2NMDA': 150,                'e': 0}\n",
    "netParams.synMechParams['AMPA_Th']             = {'mod': 'MyExp2SynBB',        'tau1': 0.05,   'tau2': 5.3, 'e': 0}\n",
    "netParams.synMechParams['GABAB_Th']            = {'mod': 'MyExp2SynBB',        'tau1': 3.5,    'tau2': 260.9,                  'e': -93} \n",
    "netParams.synMechParams['GABAA_Th']            = {'mod': 'MyExp2SynBB',        'tau1': 0.07,   'tau2': 18.2,                   'e': -80}\n",
    "ESynMech_Th    = ['AMPA_Th', 'NMDA_Th']\n",
    "PVSynMech_Th   = ['GABAA_Th']\n",
    "NGFSynMech_Th  = ['GABAA_Th', 'GABAB_Th']\n"
   ]
  },
  {
   "cell_type": "code",
   "execution_count": null,
   "metadata": {},
   "outputs": [],
   "source": [
    "for pre in cfg.Ipops+cfg.Epops:\n",
    "    for post in cfg.Ipops+cfg.Epops:\n",
    "        if float(connNumber[pre][post]) > 0:           \n",
    "            # ------------------------------------------------------------------------------    \n",
    "            #  2D distance prob rules\n",
    "            # ------------------------------------------------------------------------------ \n",
    "            prob = 1.0       \n",
    "            \n",
    "            connID = ConnTypes[pre][post][0]          \n",
    "            \n",
    "            synMechType = 'S1_II_STP_Det_' + str(connID)   \n",
    "            \n",
    "            netParams.connParams['II_' + pre + '_' + post] = { \n",
    "                            'preConds': {'pop': cfg.popLabelEl[pre]}, \n",
    "                            'postConds': {'pop': cfg.popLabelEl[post]},\n",
    "                            'synMech': synMechType,\n",
    "                            'probability': prob,\n",
    "                            'weight': parameters_syn['gsyn',connID] * cfg.IIGain, \n",
    "                            'synMechWeightFactor': cfg.synWeightFractionII,\n",
    "                            'delay': 'defaultDelay+dist_3D/propVelocity',\n",
    "                            'synsPerConn': int(synperconnNumber[pre][post]+0.5),\n",
    "                            'sec': 'spiny'}      "
   ]
  },
  {
   "cell_type": "code",
   "execution_count": 19,
   "metadata": {
    "id": "I0nfjMZprrTk"
   },
   "outputs": [],
   "source": [
    "#E2 -> syn 134\n",
    "netParams.synMechParams['TC:S1'] = {'mod': 'ProbAMPANMDA_EMS',\n",
    "                                          'Dep': 227.0,\n",
    "                                          'Fac': 13.0,\n",
    "                                          'Use': 0.72/4.0,\n",
    "                                          'tau_r_AMPA': 0.2,\n",
    "                                          'tau_d_AMPA': 1.74,\n",
    "                                          'NMDA_ratio': 0.4,\n",
    "                                          'tau_r_NMDA': 0.29,\n",
    "                                          'tau_d_NMDA': 43.0}"
   ]
  },
  {
   "cell_type": "code",
   "execution_count": 20,
   "metadata": {},
   "outputs": [],
   "source": [
    "## Cell connectivity rules\n",
    "netParams.connParams['pre->post'] = { \n",
    "        'preConds': {'pop': 'presyn'},\n",
    "        'postConds': {'pop': list(netParams.popParams.keys())[0:-1]},\n",
    "        'sec': 'spinyEE',                  # target postsyn section\n",
    "        'synMech': 'TC:S1',              # target synaptic mechanism\n",
    "        'weight': 0.19,                 # synaptic weight \n",
    "        'synsPerConn': 9,\n",
    "        'delay': 0.5}      "
   ]
  },
  {
   "cell_type": "code",
   "execution_count": 21,
   "metadata": {
    "colab": {
     "base_uri": "https://localhost:8080/"
    },
    "id": "TlPw2mEjDLl-",
    "outputId": "2b2b2cbd-41ce-4114-b2d3-4cb8bd5f5dcc"
   },
   "outputs": [
    {
     "name": "stdout",
     "output_type": "stream",
     "text": [
      "\n",
      "Start time:  2023-03-27 13:44:29.048305\n",
      "\n",
      "Creating network of 208 cell populations on 1 hosts...\n",
      "  Number of cells on node 0: 930 \n",
      "  Done; cell creation time = 15.87 s.\n",
      "Making connections...\n"
     ]
    },
    {
     "ename": "LookupError",
     "evalue": "'tau_r_AMPA' is not a defined hoc variable name.",
     "output_type": "error",
     "traceback": [
      "\u001b[0;31m---------------------------------------------------------------------------\u001b[0m",
      "\u001b[0;31mLookupError\u001b[0m                               Traceback (most recent call last)",
      "Input \u001b[0;32mIn [21]\u001b[0m, in \u001b[0;36m<cell line: 6>\u001b[0;34m()\u001b[0m\n\u001b[1;32m      4\u001b[0m sim\u001b[38;5;241m.\u001b[39mnet\u001b[38;5;241m.\u001b[39mcreatePops()               \t\t\t\u001b[38;5;66;03m# instantiate network populations\u001b[39;00m\n\u001b[1;32m      5\u001b[0m sim\u001b[38;5;241m.\u001b[39mnet\u001b[38;5;241m.\u001b[39mcreateCells()              \t\t\t\u001b[38;5;66;03m# instantiate network cells based on defined populations\u001b[39;00m\n\u001b[0;32m----> 6\u001b[0m \u001b[43msim\u001b[49m\u001b[38;5;241;43m.\u001b[39;49m\u001b[43mnet\u001b[49m\u001b[38;5;241;43m.\u001b[39;49m\u001b[43mconnectCells\u001b[49m\u001b[43m(\u001b[49m\u001b[43m)\u001b[49m            \t\t\t\u001b[38;5;66;03m# create connections between cells based on params\u001b[39;00m\n\u001b[1;32m      7\u001b[0m sim\u001b[38;5;241m.\u001b[39mnet\u001b[38;5;241m.\u001b[39maddStims() \t\t\t\t\t\t\t\u001b[38;5;66;03m# add network stimulation\u001b[39;00m\n\u001b[1;32m      8\u001b[0m sim\u001b[38;5;241m.\u001b[39msetupRecording()\n",
      "File \u001b[0;32m~/.conda/envs/p38/lib/python3.8/site-packages/netpyne/network/conn.py:89\u001b[0m, in \u001b[0;36mconnectCells\u001b[0;34m(self)\u001b[0m\n\u001b[1;32m     85\u001b[0m     \u001b[38;5;28mself\u001b[39m\u001b[38;5;241m.\u001b[39mrand\u001b[38;5;241m.\u001b[39mRandom123(sim\u001b[38;5;241m.\u001b[39mhashStr(\u001b[38;5;124m'\u001b[39m\u001b[38;5;124mconn_\u001b[39m\u001b[38;5;124m'\u001b[39m\u001b[38;5;241m+\u001b[39mconnParam[\u001b[38;5;124m'\u001b[39m\u001b[38;5;124mconnFunc\u001b[39m\u001b[38;5;124m'\u001b[39m]),\n\u001b[1;32m     86\u001b[0m                         sim\u001b[38;5;241m.\u001b[39mhashList(\u001b[38;5;28msorted\u001b[39m(preCellsTags)\u001b[38;5;241m+\u001b[39m\u001b[38;5;28msorted\u001b[39m(postCellsTags)),\n\u001b[1;32m     87\u001b[0m                         sim\u001b[38;5;241m.\u001b[39mcfg\u001b[38;5;241m.\u001b[39mseeds[\u001b[38;5;124m'\u001b[39m\u001b[38;5;124mconn\u001b[39m\u001b[38;5;124m'\u001b[39m])\n\u001b[1;32m     88\u001b[0m     \u001b[38;5;28mself\u001b[39m\u001b[38;5;241m.\u001b[39m_connStrToFunc(preCellsTags, postCellsTags, connParam)  \u001b[38;5;66;03m# convert strings to functions (for the delay, and probability params)\u001b[39;00m\n\u001b[0;32m---> 89\u001b[0m     \u001b[43mconnFunc\u001b[49m\u001b[43m(\u001b[49m\u001b[43mpreCellsTags\u001b[49m\u001b[43m,\u001b[49m\u001b[43m \u001b[49m\u001b[43mpostCellsTags\u001b[49m\u001b[43m,\u001b[49m\u001b[43m \u001b[49m\u001b[43mconnParam\u001b[49m\u001b[43m)\u001b[49m  \u001b[38;5;66;03m# call specific conn function\u001b[39;00m\n\u001b[1;32m     91\u001b[0m \u001b[38;5;66;03m# check if gap junctions in any of the conn rules\u001b[39;00m\n\u001b[1;32m     92\u001b[0m \u001b[38;5;28;01mif\u001b[39;00m \u001b[38;5;129;01mnot\u001b[39;00m gapJunctions \u001b[38;5;129;01mand\u001b[39;00m \u001b[38;5;124m'\u001b[39m\u001b[38;5;124mgapJunction\u001b[39m\u001b[38;5;124m'\u001b[39m \u001b[38;5;129;01min\u001b[39;00m connParam: gapJunctions \u001b[38;5;241m=\u001b[39m \u001b[38;5;28;01mTrue\u001b[39;00m\n",
      "File \u001b[0;32m~/.conda/envs/p38/lib/python3.8/site-packages/netpyne/network/conn.py:381\u001b[0m, in \u001b[0;36mfullConn\u001b[0;34m(self, preCellsTags, postCellsTags, connParam)\u001b[0m\n\u001b[1;32m    379\u001b[0m \u001b[38;5;28;01mif\u001b[39;00m postCellGid \u001b[38;5;129;01min\u001b[39;00m \u001b[38;5;28mself\u001b[39m\u001b[38;5;241m.\u001b[39mgid2lid:  \u001b[38;5;66;03m# check if postsyn is in this node's list of gids\u001b[39;00m\n\u001b[1;32m    380\u001b[0m     \u001b[38;5;28;01mfor\u001b[39;00m preCellGid, preCellTags \u001b[38;5;129;01min\u001b[39;00m preCellsTags\u001b[38;5;241m.\u001b[39mitems():  \u001b[38;5;66;03m# for each presyn cell\u001b[39;00m\n\u001b[0;32m--> 381\u001b[0m         \u001b[38;5;28;43mself\u001b[39;49m\u001b[38;5;241;43m.\u001b[39;49m\u001b[43m_addCellConn\u001b[49m\u001b[43m(\u001b[49m\u001b[43mconnParam\u001b[49m\u001b[43m,\u001b[49m\u001b[43m \u001b[49m\u001b[43mpreCellGid\u001b[49m\u001b[43m,\u001b[49m\u001b[43m \u001b[49m\u001b[43mpostCellGid\u001b[49m\u001b[43m)\u001b[49m\n",
      "File \u001b[0;32m~/.conda/envs/p38/lib/python3.8/site-packages/netpyne/network/conn.py:811\u001b[0m, in \u001b[0;36m_addCellConn\u001b[0;34m(self, connParam, preCellGid, postCellGid)\u001b[0m\n\u001b[1;32m    807\u001b[0m     params[\u001b[38;5;124m'\u001b[39m\u001b[38;5;124mpreLoc\u001b[39m\u001b[38;5;124m'\u001b[39m] \u001b[38;5;241m=\u001b[39m connParam\u001b[38;5;241m.\u001b[39mget(\u001b[38;5;124m'\u001b[39m\u001b[38;5;124mpreLoc\u001b[39m\u001b[38;5;124m'\u001b[39m)\n\u001b[1;32m    809\u001b[0m \u001b[38;5;28;01mif\u001b[39;00m sim\u001b[38;5;241m.\u001b[39mcfg\u001b[38;5;241m.\u001b[39mincludeParamsLabel: params[\u001b[38;5;124m'\u001b[39m\u001b[38;5;124mlabel\u001b[39m\u001b[38;5;124m'\u001b[39m] \u001b[38;5;241m=\u001b[39m connParam\u001b[38;5;241m.\u001b[39mget(\u001b[38;5;124m'\u001b[39m\u001b[38;5;124mlabel\u001b[39m\u001b[38;5;124m'\u001b[39m)\n\u001b[0;32m--> 811\u001b[0m \u001b[43mpostCell\u001b[49m\u001b[38;5;241;43m.\u001b[39;49m\u001b[43maddConn\u001b[49m\u001b[43m(\u001b[49m\u001b[43mparams\u001b[49m\u001b[38;5;241;43m=\u001b[39;49m\u001b[43mparams\u001b[49m\u001b[43m)\u001b[49m\n",
      "File \u001b[0;32m~/.conda/envs/p38/lib/python3.8/site-packages/netpyne/cell/compartCell.py:727\u001b[0m, in \u001b[0;36mCompartCell.addConn\u001b[0;34m(self, params, netStimParams)\u001b[0m\n\u001b[1;32m    725\u001b[0m \u001b[38;5;66;03m# Add synaptic mechanisms\u001b[39;00m\n\u001b[1;32m    726\u001b[0m \u001b[38;5;28;01mif\u001b[39;00m \u001b[38;5;129;01mnot\u001b[39;00m pointp: \u001b[38;5;66;03m# check not a point process\u001b[39;00m\n\u001b[0;32m--> 727\u001b[0m     synMechs, synMechSecs, synMechLocs \u001b[38;5;241m=\u001b[39m \u001b[38;5;28;43mself\u001b[39;49m\u001b[38;5;241;43m.\u001b[39;49m\u001b[43m_setConnSynMechs\u001b[49m\u001b[43m(\u001b[49m\u001b[43mparams\u001b[49m\u001b[43m,\u001b[49m\u001b[43m \u001b[49m\u001b[43msecLabels\u001b[49m\u001b[43m)\u001b[49m\n\u001b[1;32m    728\u001b[0m     \u001b[38;5;28;01mif\u001b[39;00m synMechs \u001b[38;5;241m==\u001b[39m \u001b[38;5;241m-\u001b[39m\u001b[38;5;241m1\u001b[39m: \u001b[38;5;28;01mreturn\u001b[39;00m\n\u001b[1;32m    730\u001b[0m     \u001b[38;5;66;03m# Adapt weight based on section weightNorm (normalization based on section location)\u001b[39;00m\n",
      "File \u001b[0;32m~/.conda/envs/p38/lib/python3.8/site-packages/netpyne/cell/compartCell.py:1274\u001b[0m, in \u001b[0;36mCompartCell._setConnSynMechs\u001b[0;34m(self, params, secLabels)\u001b[0m\n\u001b[1;32m   1271\u001b[0m             synMechLocs[pos], synMechLocs[\u001b[38;5;241m0\u001b[39m] \u001b[38;5;241m=\u001b[39m synMechLocs[\u001b[38;5;241m0\u001b[39m], synMechLocs[pos]\n\u001b[1;32m   1273\u001b[0m \u001b[38;5;66;03m# add synaptic mechanism to section based on synMechSecs and synMechLocs (if already exists won't be added unless nonLinear set to True)\u001b[39;00m\n\u001b[0;32m-> 1274\u001b[0m synMechs \u001b[38;5;241m=\u001b[39m [\u001b[38;5;28mself\u001b[39m\u001b[38;5;241m.\u001b[39maddSynMech(synLabel\u001b[38;5;241m=\u001b[39mparams[\u001b[38;5;124m'\u001b[39m\u001b[38;5;124msynMech\u001b[39m\u001b[38;5;124m'\u001b[39m], secLabel\u001b[38;5;241m=\u001b[39msynMechSecs[i], loc\u001b[38;5;241m=\u001b[39msynMechLocs[i]) \u001b[38;5;28;01mfor\u001b[39;00m i \u001b[38;5;129;01min\u001b[39;00m \u001b[38;5;28mrange\u001b[39m(synsPerConn)]\n\u001b[1;32m   1275\u001b[0m \u001b[38;5;28;01mreturn\u001b[39;00m synMechs, synMechSecs, synMechLocs\n",
      "File \u001b[0;32m~/.conda/envs/p38/lib/python3.8/site-packages/netpyne/cell/compartCell.py:1274\u001b[0m, in \u001b[0;36m<listcomp>\u001b[0;34m(.0)\u001b[0m\n\u001b[1;32m   1271\u001b[0m             synMechLocs[pos], synMechLocs[\u001b[38;5;241m0\u001b[39m] \u001b[38;5;241m=\u001b[39m synMechLocs[\u001b[38;5;241m0\u001b[39m], synMechLocs[pos]\n\u001b[1;32m   1273\u001b[0m \u001b[38;5;66;03m# add synaptic mechanism to section based on synMechSecs and synMechLocs (if already exists won't be added unless nonLinear set to True)\u001b[39;00m\n\u001b[0;32m-> 1274\u001b[0m synMechs \u001b[38;5;241m=\u001b[39m [\u001b[38;5;28;43mself\u001b[39;49m\u001b[38;5;241;43m.\u001b[39;49m\u001b[43maddSynMech\u001b[49m\u001b[43m(\u001b[49m\u001b[43msynLabel\u001b[49m\u001b[38;5;241;43m=\u001b[39;49m\u001b[43mparams\u001b[49m\u001b[43m[\u001b[49m\u001b[38;5;124;43m'\u001b[39;49m\u001b[38;5;124;43msynMech\u001b[39;49m\u001b[38;5;124;43m'\u001b[39;49m\u001b[43m]\u001b[49m\u001b[43m,\u001b[49m\u001b[43m \u001b[49m\u001b[43msecLabel\u001b[49m\u001b[38;5;241;43m=\u001b[39;49m\u001b[43msynMechSecs\u001b[49m\u001b[43m[\u001b[49m\u001b[43mi\u001b[49m\u001b[43m]\u001b[49m\u001b[43m,\u001b[49m\u001b[43m \u001b[49m\u001b[43mloc\u001b[49m\u001b[38;5;241;43m=\u001b[39;49m\u001b[43msynMechLocs\u001b[49m\u001b[43m[\u001b[49m\u001b[43mi\u001b[49m\u001b[43m]\u001b[49m\u001b[43m)\u001b[49m \u001b[38;5;28;01mfor\u001b[39;00m i \u001b[38;5;129;01min\u001b[39;00m \u001b[38;5;28mrange\u001b[39m(synsPerConn)]\n\u001b[1;32m   1275\u001b[0m \u001b[38;5;28;01mreturn\u001b[39;00m synMechs, synMechSecs, synMechLocs\n",
      "File \u001b[0;32m~/.conda/envs/p38/lib/python3.8/site-packages/netpyne/cell/compartCell.py:629\u001b[0m, in \u001b[0;36mCompartCell.addSynMech\u001b[0;34m(self, synLabel, secLabel, loc)\u001b[0m\n\u001b[1;32m    627\u001b[0m         sec[\u001b[38;5;124m'\u001b[39m\u001b[38;5;124msynMechs\u001b[39m\u001b[38;5;124m'\u001b[39m]\u001b[38;5;241m.\u001b[39mappend(synMech)\n\u001b[1;32m    628\u001b[0m     \u001b[38;5;66;03m# add the NEURON object\u001b[39;00m\n\u001b[0;32m--> 629\u001b[0m     \u001b[38;5;28;43mself\u001b[39;49m\u001b[38;5;241;43m.\u001b[39;49m\u001b[43maddSynMechNEURONObj\u001b[49m\u001b[43m(\u001b[49m\u001b[43msynMech\u001b[49m\u001b[43m,\u001b[49m\u001b[43m \u001b[49m\u001b[43msynMechParams\u001b[49m\u001b[43m,\u001b[49m\u001b[43m \u001b[49m\u001b[43msec\u001b[49m\u001b[43m,\u001b[49m\u001b[43m \u001b[49m\u001b[43mloc\u001b[49m\u001b[43m)\u001b[49m\n\u001b[1;32m    630\u001b[0m \u001b[38;5;28;01melse\u001b[39;00m:\n\u001b[1;32m    631\u001b[0m     synMech \u001b[38;5;241m=\u001b[39m \u001b[38;5;28;01mNone\u001b[39;00m\n",
      "File \u001b[0;32m~/.conda/envs/p38/lib/python3.8/site-packages/netpyne/cell/compartCell.py:468\u001b[0m, in \u001b[0;36mCompartCell.addSynMechNEURONObj\u001b[0;34m(self, synMech, synMechParams, sec, loc)\u001b[0m\n\u001b[1;32m    466\u001b[0m \u001b[38;5;28;01mfor\u001b[39;00m synParamName,synParamValue \u001b[38;5;129;01min\u001b[39;00m synMechParams\u001b[38;5;241m.\u001b[39mitems():  \u001b[38;5;66;03m# add params of the synaptic mechanism\u001b[39;00m\n\u001b[1;32m    467\u001b[0m     \u001b[38;5;28;01mif\u001b[39;00m synParamName \u001b[38;5;129;01mnot\u001b[39;00m \u001b[38;5;129;01min\u001b[39;00m [\u001b[38;5;124m'\u001b[39m\u001b[38;5;124mlabel\u001b[39m\u001b[38;5;124m'\u001b[39m, \u001b[38;5;124m'\u001b[39m\u001b[38;5;124mmod\u001b[39m\u001b[38;5;124m'\u001b[39m, \u001b[38;5;124m'\u001b[39m\u001b[38;5;124mselfNetCon\u001b[39m\u001b[38;5;124m'\u001b[39m, \u001b[38;5;124m'\u001b[39m\u001b[38;5;124mloc\u001b[39m\u001b[38;5;124m'\u001b[39m]:\n\u001b[0;32m--> 468\u001b[0m         \u001b[38;5;28;43msetattr\u001b[39;49m\u001b[43m(\u001b[49m\u001b[43msynMech\u001b[49m\u001b[43m[\u001b[49m\u001b[38;5;124;43m'\u001b[39;49m\u001b[38;5;124;43mhObj\u001b[39;49m\u001b[38;5;124;43m'\u001b[39;49m\u001b[43m]\u001b[49m\u001b[43m,\u001b[49m\u001b[43m \u001b[49m\u001b[43msynParamName\u001b[49m\u001b[43m,\u001b[49m\u001b[43m \u001b[49m\u001b[43msynParamValue\u001b[49m\u001b[43m)\u001b[49m\n\u001b[1;32m    469\u001b[0m     \u001b[38;5;28;01melif\u001b[39;00m synParamName \u001b[38;5;241m==\u001b[39m \u001b[38;5;124m'\u001b[39m\u001b[38;5;124mselfNetcon\u001b[39m\u001b[38;5;124m'\u001b[39m:  \u001b[38;5;66;03m# create self netcon required for some synapses (eg. homeostatic)\u001b[39;00m\n\u001b[1;32m    470\u001b[0m         secLabelNetCon \u001b[38;5;241m=\u001b[39m synParamValue\u001b[38;5;241m.\u001b[39mget(\u001b[38;5;124m'\u001b[39m\u001b[38;5;124msec\u001b[39m\u001b[38;5;124m'\u001b[39m, \u001b[38;5;124m'\u001b[39m\u001b[38;5;124msoma\u001b[39m\u001b[38;5;124m'\u001b[39m)\n",
      "\u001b[0;31mLookupError\u001b[0m: 'tau_r_AMPA' is not a defined hoc variable name."
     ]
    }
   ],
   "source": [
    "sim.initialize(\n",
    "    simConfig = cfg, \t\n",
    "    netParams = netParams)  \t\t\t\t# create network object and set cfg and net params\n",
    "sim.net.createPops()               \t\t\t# instantiate network populations\n",
    "sim.net.createCells()              \t\t\t# instantiate network cells based on defined populations\n",
    "sim.net.connectCells()            \t\t\t# create connections between cells based on params\n",
    "sim.net.addStims() \t\t\t\t\t\t\t# add network stimulation\n",
    "sim.setupRecording()              \t\t\t# setup variables to record for each cell (spikes, V traces, etc)"
   ]
  },
  {
   "cell_type": "code",
   "execution_count": null,
   "metadata": {},
   "outputs": [],
   "source": [
    "# sim?"
   ]
  },
  {
   "cell_type": "code",
   "execution_count": null,
   "metadata": {
    "id": "lka0LniMK-ie",
    "scrolled": false
   },
   "outputs": [],
   "source": [
    "sim.runSim()                      \t\t\t# run parallel Neuron simulation  "
   ]
  },
  {
   "cell_type": "code",
   "execution_count": null,
   "metadata": {
    "scrolled": false
   },
   "outputs": [],
   "source": [
    "sim.gatherData()                  \t\t\t# gather spiking data and cell info from each node\n",
    "sim.saveData()                    \t\t\t# save params, cell info and sim output to file (pickle,mat,txt,etc)#\n",
    "sim.analysis.plotData()         \t\t\t# plot spike raster etc"
   ]
  },
  {
   "cell_type": "code",
   "execution_count": null,
   "metadata": {},
   "outputs": [],
   "source": [
    "sim.analysis.plotRaster()"
   ]
  },
  {
   "cell_type": "code",
   "execution_count": null,
   "metadata": {
    "scrolled": false
   },
   "outputs": [],
   "source": [
    "Traces2 = sim.analysis.plotTraces(oneFigPer='trace', overlay=1, timeRange=[2400,4000], saveData='../info/syn_eletrophys_L23_PC:L23_PC.json')"
   ]
  },
  {
   "cell_type": "code",
   "execution_count": null,
   "metadata": {},
   "outputs": [],
   "source": [
    "# alltraces = []\n",
    "# for number in range(25):\n",
    "#     alltraces.append(Traces2[1]['tracesData'][number]['cell_'+str(number)+'_V_soma'])\n"
   ]
  },
  {
   "cell_type": "code",
   "execution_count": null,
   "metadata": {},
   "outputs": [],
   "source": [
    "figSize = (16,9)\n",
    "fig = plt.figure(figsize=figSize)  # Open a new figure\n",
    "clr = [\"black\", \"blue\",\"green\",\"gray\", \"red\"]\n",
    "number=0\n",
    "for i in range(5):\n",
    "    for number2 in range(i,25,5):\n",
    "        plt.plot(Traces2[1]['tracesData'][number]['t'][1:],Traces2[1]['tracesData'][number]['cell_'+str(number)+'_V_soma']-Traces2[1]['tracesData'][number]['cell_'+str(number)+'_V_soma'][999]-1.0*i, label= sim.net.allCells[number]['tags']['pop'] + '_' + sim.net.allCells[number]['conns'][0]['sec'], linewidth=1.0, color=clr[i])\n",
    "        number+=1\n",
    "        \n",
    "plt.legend(loc='upper right', bbox_to_anchor=(1.0, 1.0))\n",
    "plt.xlim(2400,4150)\n",
    "plt.ylim(-4.25,1.0)\n",
    "plt.xlabel('Time (ms)', fontsize=16)\n",
    "plt.ylabel('EPSP (mV)', fontsize=16)\n",
    "plt.xticks(range(2400,3900,200), range(0,1500,200), fontsize=14);\n",
    "plt.yticks([0,1], fontsize=14);\n",
    "\n",
    "plt.savefig('../info/syn_eletrophys_20Hz_E2_TC_S1.png', facecolor = 'white' , dpi=300)\n",
    " "
   ]
  },
  {
   "cell_type": "code",
   "execution_count": null,
   "metadata": {},
   "outputs": [],
   "source": [
    "print(sim.net.cells[0].secs['soma']['hObj'].cao,sim.net.cells[0].secs['soma']['ions']['ca']['o'])"
   ]
  },
  {
   "cell_type": "code",
   "execution_count": null,
   "metadata": {},
   "outputs": [],
   "source": [
    "alltraces = []\n",
    "gmax1 = []\n",
    "\n",
    "Traces2 = sim.analysis.plotTraces(oneFigPer='trace', overlay=1, timeRange=[2400,3600],axis=False,legend=False,scaleBarLoc=1,figSize=(10, 3),fontSize=6)\n",
    "for number in range(20):\n",
    "    if np.max(Traces2[1]['tracesData'][number]['cell_'+str(number)+'_V_soma'])-np.min(Traces2[1]['tracesData'][number]['cell_'+str(number)+'_V_soma']) > 0.01:\n",
    "        alltraces.append(Traces2[1]['tracesData'][number]['cell_'+str(number)+'_V_soma'])\n",
    "        gmax1.append(np.max(Traces2[1]['tracesData'][number]['cell_'+str(number)+'_V_soma'])-np.min(Traces2[1]['tracesData'][number]['cell_'+str(number)+'_V_soma']))\n",
    "        \n",
    "print('MC:L5_TTPC in silico PSP amplitude (mV; mean ± SD) = %.3f±%.3f' % (np.mean(gmax1),np.std(gmax1)))"
   ]
  },
  {
   "cell_type": "code",
   "execution_count": null,
   "metadata": {},
   "outputs": [],
   "source": [
    "figSize = (4.2,3)\n",
    "fig = plt.figure(figsize=figSize)  # Open a new figure\n",
    "for number in range(np.shape(alltraces)[0]):\n",
    "    plt.plot(alltraces[number]-alltraces[number][0],color = 'lightgray',linewidth=2.0)\n",
    "\n",
    "plt.plot(np.mean(alltraces, axis=0)-np.mean(alltraces, axis=0)[0],color = 'black', linewidth=2.0)\n",
    "# plt.legend(loc='upper right', bbox_to_anchor=(0.95, 1.0))\n",
    "plt.xlim(0,12000)\n",
    "# plt.ylim(-0.25,12.25)\n",
    "plt.xlabel('Time (ms)', fontsize=16)\n",
    "plt.ylabel('PSP (mV)', fontsize=16)\n",
    "plt.xticks(range(0,12000,2000), range(0,1200,200), fontsize=14);\n",
    "plt.yticks([0,0.75], fontsize=14); \n",
    "\n",
    "\n",
    "# plt.savefig('syn_gmax_MC_L5TTPC_9.png', facecolor = 'white' , dpi=300)"
   ]
  },
  {
   "cell_type": "code",
   "execution_count": null,
   "metadata": {
    "scrolled": false
   },
   "outputs": [],
   "source": [
    "figSize = (16,9)\n",
    "fig = plt.figure(figsize=figSize)  # Open a new figure\n",
    "clr = [\"black\", \"blue\",\"green\",\"gray\", \"red\"]\n",
    "number=0\n",
    "for i in range(5):\n",
    "    for number2 in range(i,25,5):\n",
    "        plt.plot(Traces2[1]['tracesData'][number]['t'][1:],Traces2[1]['tracesData'][number]['cell_'+str(number)+'_V_soma']-Traces2[1]['tracesData'][number]['cell_'+str(number)+'_V_soma'][999], label= sim.net.allCells[number]['tags']['pop'] + '_' + sim.net.allCells[number]['conns'][0]['sec'], linewidth=1.0, color=clr[i])\n",
    "        number+=1\n",
    "        \n",
    "plt.legend(loc='upper right', bbox_to_anchor=(1.0, 1.0))\n",
    "plt.xlim(2400,4150)\n",
    "plt.ylim(-0.05,1.35)\n",
    "plt.xlabel('Time (ms)', fontsize=16)\n",
    "plt.ylabel('EPSP (mV)', fontsize=16)\n",
    "plt.xticks(range(2400,3900,200), range(0,1500,200), fontsize=14);\n",
    "plt.yticks([0,1], fontsize=14);\n",
    "\n",
    "plt.savefig('../info/syn_eletrophys_20Hz_E2_TC_S1_stoch_use25p.png', facecolor = 'white' , dpi=300)\n",
    " "
   ]
  }
 ],
 "metadata": {
  "colab": {
   "collapsed_sections": [],
   "name": "BBP_cells_Netpyne.ipynb",
   "provenance": []
  },
  "kernelspec": {
   "display_name": "Python 3 (ipykernel)",
   "language": "python",
   "name": "python3"
  },
  "language_info": {
   "codemirror_mode": {
    "name": "ipython",
    "version": 3
   },
   "file_extension": ".py",
   "mimetype": "text/x-python",
   "name": "python",
   "nbconvert_exporter": "python",
   "pygments_lexer": "ipython3",
   "version": "3.8.12"
  }
 },
 "nbformat": 4,
 "nbformat_minor": 1
}
